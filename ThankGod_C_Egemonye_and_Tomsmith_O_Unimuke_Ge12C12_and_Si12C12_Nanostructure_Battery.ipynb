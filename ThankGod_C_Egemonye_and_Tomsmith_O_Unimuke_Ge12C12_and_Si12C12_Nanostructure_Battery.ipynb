{
 "cells": [
  {
   "cell_type": "markdown",
   "id": "c05fa7c6-7240-4e56-b87a-8ebe03bd1aac",
   "metadata": {},
   "source": [
    "# Machine Learning Prediction of Vcells from our DFT Simulated Nanocages"
   ]
  },
  {
   "cell_type": "code",
   "execution_count": 1,
   "id": "d0de90c7-53d8-4ba1-baca-55a7b5ffc20a",
   "metadata": {},
   "outputs": [],
   "source": [
    "# importing libraries\n",
    "%matplotlib inline\n",
    "import pandas as pd\n",
    "import matplotlib.pyplot as plt\n",
    "from sklearn.model_selection import train_test_split, KFold, cross_val_score\n",
    "from sklearn.linear_model import LinearRegression, Lasso, Ridge, ElasticNet\n",
    "from sklearn.metrics import r2_score, make_scorer, mean_squared_error"
   ]
  },
  {
   "cell_type": "code",
   "execution_count": 3,
   "id": "e5f683b1-9970-4430-999c-78c9f44e3669",
   "metadata": {},
   "outputs": [
    {
     "data": {
      "text/html": [
       "<div>\n",
       "<style scoped>\n",
       "    .dataframe tbody tr th:only-of-type {\n",
       "        vertical-align: middle;\n",
       "    }\n",
       "\n",
       "    .dataframe tbody tr th {\n",
       "        vertical-align: top;\n",
       "    }\n",
       "\n",
       "    .dataframe thead th {\n",
       "        text-align: right;\n",
       "    }\n",
       "</style>\n",
       "<table border=\"1\" class=\"dataframe\">\n",
       "  <thead>\n",
       "    <tr style=\"text-align: right;\">\n",
       "      <th></th>\n",
       "      <th>Nanocage</th>\n",
       "      <th>Eg (eV)</th>\n",
       "      <th>∆Ecell (kcal/mol)</th>\n",
       "      <th>Vcell (V)</th>\n",
       "    </tr>\n",
       "  </thead>\n",
       "  <tbody>\n",
       "    <tr>\n",
       "      <th>0</th>\n",
       "      <td>Ge12C12</td>\n",
       "      <td>2.01</td>\n",
       "      <td>-1.39</td>\n",
       "      <td>0.06</td>\n",
       "    </tr>\n",
       "    <tr>\n",
       "      <th>1</th>\n",
       "      <td>Si12C12</td>\n",
       "      <td>2.72</td>\n",
       "      <td>-34.36</td>\n",
       "      <td>1.49</td>\n",
       "    </tr>\n",
       "    <tr>\n",
       "      <th>2</th>\n",
       "      <td>O-Ge12C12</td>\n",
       "      <td>1.85</td>\n",
       "      <td>6.22</td>\n",
       "      <td>-0.27</td>\n",
       "    </tr>\n",
       "    <tr>\n",
       "      <th>3</th>\n",
       "      <td>O-Si12C12</td>\n",
       "      <td>2.71</td>\n",
       "      <td>-3.23</td>\n",
       "      <td>0.14</td>\n",
       "    </tr>\n",
       "    <tr>\n",
       "      <th>4</th>\n",
       "      <td>Se-Ge12C12</td>\n",
       "      <td>1.16</td>\n",
       "      <td>-2.54</td>\n",
       "      <td>0.11</td>\n",
       "    </tr>\n",
       "    <tr>\n",
       "      <th>5</th>\n",
       "      <td>Se-Si12C12</td>\n",
       "      <td>1.85</td>\n",
       "      <td>-2.76</td>\n",
       "      <td>0.12</td>\n",
       "    </tr>\n",
       "  </tbody>\n",
       "</table>\n",
       "</div>"
      ],
      "text/plain": [
       "      Nanocage  Eg (eV)  ∆Ecell (kcal/mol)  Vcell (V)\n",
       "0      Ge12C12     2.01              -1.39       0.06\n",
       "1      Si12C12     2.72             -34.36       1.49\n",
       "2    O-Ge12C12     1.85               6.22      -0.27\n",
       "3    O-Si12C12     2.71              -3.23       0.14\n",
       "4   Se-Ge12C12     1.16              -2.54       0.11\n",
       "5   Se-Si12C12     1.85              -2.76       0.12"
      ]
     },
     "execution_count": 3,
     "metadata": {},
     "output_type": "execute_result"
    }
   ],
   "source": [
    "# reading Excel dataset from DFT simulated nanocages\n",
    "Battery_ML = pd.read_excel('ThankGod_C_Egemonye_and_Tomsmith_O_Unimuke_Ge12C12_Si12C12_Battery.xlsx')\n",
    "Battery_ML"
   ]
  },
  {
   "cell_type": "code",
   "execution_count": 4,
   "id": "3bf70aa7-d453-47ed-a62b-292a4f97f58a",
   "metadata": {},
   "outputs": [
    {
     "data": {
      "text/html": [
       "<div>\n",
       "<style scoped>\n",
       "    .dataframe tbody tr th:only-of-type {\n",
       "        vertical-align: middle;\n",
       "    }\n",
       "\n",
       "    .dataframe tbody tr th {\n",
       "        vertical-align: top;\n",
       "    }\n",
       "\n",
       "    .dataframe thead th {\n",
       "        text-align: right;\n",
       "    }\n",
       "</style>\n",
       "<table border=\"1\" class=\"dataframe\">\n",
       "  <thead>\n",
       "    <tr style=\"text-align: right;\">\n",
       "      <th></th>\n",
       "      <th>Eg (eV)</th>\n",
       "      <th>∆Ecell (kcal/mol)</th>\n",
       "      <th>Vcell (V)</th>\n",
       "    </tr>\n",
       "  </thead>\n",
       "  <tbody>\n",
       "    <tr>\n",
       "      <th>count</th>\n",
       "      <td>6.000000</td>\n",
       "      <td>6.000000</td>\n",
       "      <td>6.000000</td>\n",
       "    </tr>\n",
       "    <tr>\n",
       "      <th>mean</th>\n",
       "      <td>2.050000</td>\n",
       "      <td>-6.343333</td>\n",
       "      <td>0.275000</td>\n",
       "    </tr>\n",
       "    <tr>\n",
       "      <th>std</th>\n",
       "      <td>0.592992</td>\n",
       "      <td>14.172543</td>\n",
       "      <td>0.614646</td>\n",
       "    </tr>\n",
       "    <tr>\n",
       "      <th>min</th>\n",
       "      <td>1.160000</td>\n",
       "      <td>-34.360000</td>\n",
       "      <td>-0.270000</td>\n",
       "    </tr>\n",
       "    <tr>\n",
       "      <th>25%</th>\n",
       "      <td>1.850000</td>\n",
       "      <td>-3.112500</td>\n",
       "      <td>0.072500</td>\n",
       "    </tr>\n",
       "    <tr>\n",
       "      <th>50%</th>\n",
       "      <td>1.930000</td>\n",
       "      <td>-2.650000</td>\n",
       "      <td>0.115000</td>\n",
       "    </tr>\n",
       "    <tr>\n",
       "      <th>75%</th>\n",
       "      <td>2.535000</td>\n",
       "      <td>-1.677500</td>\n",
       "      <td>0.135000</td>\n",
       "    </tr>\n",
       "    <tr>\n",
       "      <th>max</th>\n",
       "      <td>2.720000</td>\n",
       "      <td>6.220000</td>\n",
       "      <td>1.490000</td>\n",
       "    </tr>\n",
       "  </tbody>\n",
       "</table>\n",
       "</div>"
      ],
      "text/plain": [
       "        Eg (eV)  ∆Ecell (kcal/mol)  Vcell (V)\n",
       "count  6.000000           6.000000   6.000000\n",
       "mean   2.050000          -6.343333   0.275000\n",
       "std    0.592992          14.172543   0.614646\n",
       "min    1.160000         -34.360000  -0.270000\n",
       "25%    1.850000          -3.112500   0.072500\n",
       "50%    1.930000          -2.650000   0.115000\n",
       "75%    2.535000          -1.677500   0.135000\n",
       "max    2.720000           6.220000   1.490000"
      ]
     },
     "execution_count": 4,
     "metadata": {},
     "output_type": "execute_result"
    }
   ],
   "source": [
    "# statistical description of our datasets\n",
    "Battery_ML.describe()"
   ]
  },
  {
   "cell_type": "code",
   "execution_count": 5,
   "id": "f89e362f-ac41-44c5-81ae-57d2816c984b",
   "metadata": {},
   "outputs": [
    {
     "data": {
      "text/plain": [
       "array([[  2.01,  -1.39],\n",
       "       [  2.72, -34.36],\n",
       "       [  1.85,   6.22],\n",
       "       [  2.71,  -3.23],\n",
       "       [  1.16,  -2.54],\n",
       "       [  1.85,  -2.76]])"
      ]
     },
     "execution_count": 5,
     "metadata": {},
     "output_type": "execute_result"
    }
   ],
   "source": [
    "# Selecting X variable\n",
    "X= Battery_ML.drop(columns = ['Nanocage', 'Vcell (V)']).values\n",
    "X"
   ]
  },
  {
   "cell_type": "code",
   "execution_count": 6,
   "id": "9a7bc20a-7215-4551-bd79-271021eac267",
   "metadata": {},
   "outputs": [
    {
     "data": {
      "text/plain": [
       "array([ 0.06,  1.49, -0.27,  0.14,  0.11,  0.12])"
      ]
     },
     "execution_count": 6,
     "metadata": {},
     "output_type": "execute_result"
    }
   ],
   "source": [
    "# Selecting Y variable\n",
    "Y = Battery_ML['Vcell (V)'].values\n",
    "Y"
   ]
  },
  {
   "cell_type": "markdown",
   "id": "3826b888-f412-4572-b6f1-13141ececba3",
   "metadata": {},
   "source": [
    "# Splitting Datasets into Training and Testing"
   ]
  },
  {
   "cell_type": "code",
   "execution_count": 7,
   "id": "c6c7076d-2e78-4d55-b4b2-0c8eb5d41837",
   "metadata": {},
   "outputs": [],
   "source": [
    "# Splitting of dataset into training and testing: 80% for training and 20 for testing\n",
    "X_train, X_test, Y_train, Y_test = train_test_split(X, Y, test_size =0.2, random_state=18)"
   ]
  },
  {
   "cell_type": "code",
   "execution_count": 8,
   "id": "2522a65b-ae37-428e-b26d-02c2645865c5",
   "metadata": {},
   "outputs": [
    {
     "data": {
      "text/plain": [
       "array([[  2.72, -34.36],\n",
       "       [  2.01,  -1.39],\n",
       "       [  2.71,  -3.23],\n",
       "       [  1.85,   6.22]])"
      ]
     },
     "execution_count": 8,
     "metadata": {},
     "output_type": "execute_result"
    }
   ],
   "source": [
    "X_train"
   ]
  },
  {
   "cell_type": "code",
   "execution_count": 9,
   "id": "8ab51fda-30f2-4260-8298-e89e48a65dc0",
   "metadata": {},
   "outputs": [
    {
     "data": {
      "text/plain": [
       "array([ 1.49,  0.06,  0.14, -0.27])"
      ]
     },
     "execution_count": 9,
     "metadata": {},
     "output_type": "execute_result"
    }
   ],
   "source": [
    "Y_train"
   ]
  },
  {
   "cell_type": "code",
   "execution_count": 10,
   "id": "a8f6f99f-f861-4622-8757-ff25257fb655",
   "metadata": {},
   "outputs": [
    {
     "data": {
      "text/plain": [
       "array([[ 1.85, -2.76],\n",
       "       [ 1.16, -2.54]])"
      ]
     },
     "execution_count": 10,
     "metadata": {},
     "output_type": "execute_result"
    }
   ],
   "source": [
    "X_test"
   ]
  },
  {
   "cell_type": "code",
   "execution_count": 11,
   "id": "1e5069c3-406c-4ead-a1b7-2373115afffe",
   "metadata": {},
   "outputs": [
    {
     "data": {
      "text/plain": [
       "array([0.12, 0.11])"
      ]
     },
     "execution_count": 11,
     "metadata": {},
     "output_type": "execute_result"
    }
   ],
   "source": [
    "Y_test"
   ]
  },
  {
   "cell_type": "markdown",
   "id": "760d8bb1-935c-4774-9044-3df687342da4",
   "metadata": {},
   "source": [
    "# Performing Cross-Validation on Regression Algorithms"
   ]
  },
  {
   "cell_type": "markdown",
   "id": "74e22c0f-0626-471d-b987-054d602fcb28",
   "metadata": {},
   "source": [
    "• K-fold cross-validation was performed on our regression algorithms to ensure their generalization on unseen data. "
   ]
  },
  {
   "cell_type": "markdown",
   "id": "5b00effb-1182-44bf-b7b6-61683c70928c",
   "metadata": {},
   "source": [
    "• Cross_val_score was used to evaluate accuracy of the regression algorithms across k-folds, utilizing r2_score and root mean square error (RMSE) as scoring function."
   ]
  },
  {
   "cell_type": "code",
   "execution_count": null,
   "id": "2461ce90-056a-4d05-b07b-bc684bda2654",
   "metadata": {},
   "outputs": [],
   "source": [
    "# Creating instances of regression models\n",
    "models = []\n",
    "models.append(('Linear_Regression', LinearRegression()))\n",
    "models.append(('Lasso', Lasso(alpha=0.001)))\n",
    "models.append(('Ridge', Ridge(alpha=0.5)))\n",
    "models.append(('ElasticNet', ElasticNet(alpha=0.1, l1_ratio=0.1)))\n",
    "\n",
    "# evaluate each model\n",
    "results = []\n",
    "names = []\n",
    "for name, model in models:\n",
    "    kfold = KFold(n_splits=2)\n",
    "    cross_validation_r2 = cross_val_score(model, X_train, Y_train, cv=kfold, scoring=make_scorer(r2_score))\n",
    "    cross_validation_rmse = -1 * cross_val_score(model, X_train, Y_train, cv=kfold, scoring=make_scorer(mean_squared_error,\n",
    "                                                                                    greater_is_better=False, squared=False))\n",
    "    results.append((cross_validation_r2.tolist(), cross_validation_rmse.tolist()))\n",
    "    names.append(name)\n",
    "    final = \"%s: R2 = %f (%f), RMSE = %f \" % (name, cross_validation_r2.mean(), cross_validation_r2.std(), cross_validation_rmse.mean())\n",
    "                                                                                                          \n",
    "    print(final)"
   ]
  },
  {
   "cell_type": "markdown",
   "id": "a74997b4-acf0-4c10-8079-b79a9922318f",
   "metadata": {},
   "source": [
    "# Predicting Vcells of the Nanocages"
   ]
  },
  {
   "cell_type": "code",
   "execution_count": 15,
   "id": "fa2fe88f-2551-4684-bd82-094cb968ada7",
   "metadata": {},
   "outputs": [
    {
     "name": "stdout",
     "output_type": "stream",
     "text": [
      "Linear predictions: [array([1.47955906, 0.05808387]), array([ 0.1404224 , -0.27006311])]\n",
      "Lasso predictions: [array([1.48900775, 0.06004009]), array([ 0.13985977, -0.26997806])]\n",
      "Ridge predictions: [array([1.46259373, 0.05673193]), array([ 0.14100537, -0.26910303])]\n",
      "ElasticNet predictions: [array([1.46837234, 0.0583797 ]), array([ 0.1405549 , -0.26883439])]\n"
     ]
    }
   ],
   "source": [
    "X_train, X_test, Y_train, Y_test = train_test_split(X, Y, test_size=0.2, random_state=18)\n",
    "\n",
    "# Creating instances of the regression models\n",
    "models = [('Linear', LinearRegression()), ('Lasso', Lasso(alpha=0.001)),('Ridge', Ridge(alpha=0.5)),\n",
    "          ('ElasticNet', ElasticNet(alpha=0.1, l1_ratio=0.1))]\n",
    "\n",
    "# Evaluating each model\n",
    "Y_predicted_all = {}\n",
    "for name, model in models:\n",
    "    kfold = KFold(n_splits=2)\n",
    "    Y_predicted = []\n",
    "    for train, test in kfold.split(X_train, Y_train):\n",
    "        X_train_fold, X_test_fold = X_train[train], X_train[test]\n",
    "        Y_train_fold, Y_test_fold = Y_train[train], Y_train[test]\n",
    "        model.fit(X_train_fold, Y_train_fold)\n",
    "        predicted_values = model.predict(X_test_fold)\n",
    "        Y_predicted.append(predicted_values)\n",
    "    Y_predicted_all[name] = Y_predicted\n",
    "\n",
    "# Printing predicted Vcells for each regression model\n",
    "for name in Y_predicted_all:\n",
    "    print(f\"{name} predictions: {Y_predicted_all[name]}\")"
   ]
  },
  {
   "cell_type": "markdown",
   "id": "532ef417-7fd8-4d16-a9ee-b9e854f2230c",
   "metadata": {},
   "source": [
    "# Plotting ML-Predicted Vcell Vs DFT-Predicted Vcell"
   ]
  },
  {
   "cell_type": "code",
   "execution_count": 14,
   "id": "836e5dc9-7152-469c-90dd-029892a86776",
   "metadata": {},
   "outputs": [
    {
     "data": {
      "image/png": "[encoded data removed]",
      "text/plain": [
       "<Figure size 800x600 with 4 Axes>"
      ]
     },
     "metadata": {},
     "output_type": "display_data"
    }
   ],
   "source": [
    "# Create a figure with subplots\n",
    "fig, axes = plt.subplots(nrows=2, ncols=2, figsize=(8, 6))\n",
    "# Iterate through the models and plot the regression\n",
    "for i, (name, model) in enumerate(models):\n",
    "    row = i // 2\n",
    "    col = i % 2\n",
    "    ax = axes[row, col]\n",
    "    \n",
    "    # Flatten the Y_predicted values\n",
    "    Y_pred = [item for sublist in Y_predicted_all[name] for item in sublist]\n",
    "    \n",
    "    # Plotting the regression\n",
    "    ax.scatter(Y_train, Y_pred, s=27, c='blue')\n",
    "    ax.plot([min(Y_train), max(Y_train)], [min(Y_train), max(Y_train)], c='red', linewidth=1.5)\n",
    "    ax.set_title(f\"{name} Regression \")\n",
    "    ax.set_xlabel(\"DFT Vcell (V)\", size=13)\n",
    "    ax.set_ylabel(\"ML Vcell (V)\", size=13)\n",
    "\n",
    "plt.tight_layout()\n",
    "plt.savefig('ThankGod_C_Egemonye_and_Tomsmith_O_Unimuke_Ge12C12_Si12C12_Battery.png', dpi=600)\n",
    "plt.show()"
   ]
  },
  {
   "cell_type": "code",
   "execution_count": null,
   "id": "335c35ec-3395-479e-8604-c0a5d4f770ac",
   "metadata": {},
   "outputs": [],
   "source": []
  }
 ],
 "metadata": {
  "kernelspec": {
   "display_name": "Python 3 (ipykernel)",
   "language": "python",
   "name": "python3"
  },
  "language_info": {
   "codemirror_mode": {
    "name": "ipython",
    "version": 3
   },
   "file_extension": ".py",
   "mimetype": "text/x-python",
   "name": "python",
   "nbconvert_exporter": "python",
   "pygments_lexer": "ipython3",
   "version": "3.11.7"
  }
 },
 "nbformat": 4,
 "nbformat_minor": 5
}
